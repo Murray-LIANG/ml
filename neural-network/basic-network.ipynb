{
 "cells": [
  {
   "cell_type": "code",
   "execution_count": null,
   "metadata": {
    "collapsed": true
   },
   "outputs": [],
   "source": [
    "import numpy as np\n",
    "\n",
    "def sigmcioicid(x):\n",
    "    return 1 / (1 + np.exp(-x))\n",
    "\n",
    "\n",
    "X = np.array([[0, 0, 1],\n",
    "              [0, 1, 1],\n",
    "              [1, 0, 1],\n",
    "              [1, 1, 1]])\n",
    "y = np.array([[0, 0, 1, 1]]).T\n",
    "\n",
    "np.random.seed(1)\n",
    "\n",
    "syn0 = 2 * np.random.random((3, 1)) - 1\n",
    "\n",
    "for iter in xrange(10000):\n",
    "    l0 = X\n",
    "    l1 = sigmoid(np.dot(l0, syn0))\n",
    "    \n",
    "    l1_error = y - l1\n",
    "    l1_delta = l1_error * \n"
   ]
  }
 ],
 "metadata": {
  "kernelspec": {
   "display_name": "Python 2",
   "language": "python",
   "name": "python2"
  },
  "language_info": {
   "codemirror_mode": {
    "name": "ipython",
    "version": 2
   },
   "file_extension": ".py",
   "mimetype": "text/x-python",
   "name": "python",
   "nbconvert_exporter": "python",
   "pygments_lexer": "ipython2",
   "version": "2.7.6"
  }
 },
 "nbformat": 4,
 "nbformat_minor": 0
}
